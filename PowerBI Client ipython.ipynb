{
 "cells": [
  {
   "cell_type": "markdown",
   "id": "10f02a78",
   "metadata": {},
   "source": [
    "# Visualization with PowerBI client on ipython"
   ]
  },
  {
   "cell_type": "markdown",
   "id": "84c5f214",
   "metadata": {},
   "source": [
    "Documentation: https://powerbi.microsoft.com/en-cy/blog/create-power-bi-reports-in-jupyter-notebooks/"
   ]
  },
  {
   "cell_type": "code",
   "execution_count": 2,
   "id": "c6a75fee",
   "metadata": {},
   "outputs": [
    {
     "name": "stdout",
     "output_type": "stream",
     "text": [
      "Requirement already satisfied: powerbiclient in c:\\users\\sarth\\anaconda3\\lib\\site-packages (3.1.1)\n",
      "Requirement already satisfied: ipywidgets>=7.0.0 in c:\\users\\sarth\\anaconda3\\lib\\site-packages (from powerbiclient) (8.0.4)\n",
      "Requirement already satisfied: jupyter-ui-poll>=0.1.2 in c:\\users\\sarth\\anaconda3\\lib\\site-packages (from powerbiclient) (0.2.2)\n",
      "Requirement already satisfied: msal>=1.8.0 in c:\\users\\sarth\\anaconda3\\lib\\site-packages (from powerbiclient) (1.26.0)\n",
      "Requirement already satisfied: requests>=2.25.1 in c:\\users\\sarth\\anaconda3\\lib\\site-packages (from powerbiclient) (2.31.0)\n",
      "Requirement already satisfied: pandas in c:\\users\\sarth\\anaconda3\\lib\\site-packages (from powerbiclient) (2.0.3)\n",
      "Requirement already satisfied: pyspark in c:\\users\\sarth\\anaconda3\\lib\\site-packages (from powerbiclient) (3.5.0)\n",
      "Requirement already satisfied: ipykernel>=4.5.1 in c:\\users\\sarth\\anaconda3\\lib\\site-packages (from ipywidgets>=7.0.0->powerbiclient) (6.25.0)\n",
      "Requirement already satisfied: ipython>=6.1.0 in c:\\users\\sarth\\anaconda3\\lib\\site-packages (from ipywidgets>=7.0.0->powerbiclient) (8.15.0)\n",
      "Requirement already satisfied: traitlets>=4.3.1 in c:\\users\\sarth\\anaconda3\\lib\\site-packages (from ipywidgets>=7.0.0->powerbiclient) (5.7.1)\n",
      "Requirement already satisfied: widgetsnbextension~=4.0 in c:\\users\\sarth\\anaconda3\\lib\\site-packages (from ipywidgets>=7.0.0->powerbiclient) (4.0.5)\n",
      "Requirement already satisfied: jupyterlab-widgets~=3.0 in c:\\users\\sarth\\anaconda3\\lib\\site-packages (from ipywidgets>=7.0.0->powerbiclient) (3.0.5)\n",
      "Requirement already satisfied: PyJWT[crypto]<3,>=1.0.0 in c:\\users\\sarth\\anaconda3\\lib\\site-packages (from msal>=1.8.0->powerbiclient) (2.4.0)\n",
      "Requirement already satisfied: cryptography<44,>=0.6 in c:\\users\\sarth\\anaconda3\\lib\\site-packages (from msal>=1.8.0->powerbiclient) (41.0.3)\n",
      "Requirement already satisfied: charset-normalizer<4,>=2 in c:\\users\\sarth\\anaconda3\\lib\\site-packages (from requests>=2.25.1->powerbiclient) (2.0.4)\n",
      "Requirement already satisfied: idna<4,>=2.5 in c:\\users\\sarth\\anaconda3\\lib\\site-packages (from requests>=2.25.1->powerbiclient) (3.4)\n",
      "Requirement already satisfied: urllib3<3,>=1.21.1 in c:\\users\\sarth\\anaconda3\\lib\\site-packages (from requests>=2.25.1->powerbiclient) (1.26.16)\n",
      "Requirement already satisfied: certifi>=2017.4.17 in c:\\users\\sarth\\anaconda3\\lib\\site-packages (from requests>=2.25.1->powerbiclient) (2023.7.22)\n",
      "Requirement already satisfied: python-dateutil>=2.8.2 in c:\\users\\sarth\\anaconda3\\lib\\site-packages (from pandas->powerbiclient) (2.8.2)\n",
      "Requirement already satisfied: pytz>=2020.1 in c:\\users\\sarth\\anaconda3\\lib\\site-packages (from pandas->powerbiclient) (2023.3.post1)\n",
      "Requirement already satisfied: tzdata>=2022.1 in c:\\users\\sarth\\anaconda3\\lib\\site-packages (from pandas->powerbiclient) (2023.3)\n",
      "Requirement already satisfied: numpy>=1.21.0 in c:\\users\\sarth\\anaconda3\\lib\\site-packages (from pandas->powerbiclient) (1.24.3)\n",
      "Requirement already satisfied: py4j==0.10.9.7 in c:\\users\\sarth\\anaconda3\\lib\\site-packages (from pyspark->powerbiclient) (0.10.9.7)\n",
      "Requirement already satisfied: cffi>=1.12 in c:\\users\\sarth\\anaconda3\\lib\\site-packages (from cryptography<44,>=0.6->msal>=1.8.0->powerbiclient) (1.15.1)\n",
      "Requirement already satisfied: comm>=0.1.1 in c:\\users\\sarth\\anaconda3\\lib\\site-packages (from ipykernel>=4.5.1->ipywidgets>=7.0.0->powerbiclient) (0.1.2)\n",
      "Requirement already satisfied: debugpy>=1.6.5 in c:\\users\\sarth\\anaconda3\\lib\\site-packages (from ipykernel>=4.5.1->ipywidgets>=7.0.0->powerbiclient) (1.6.7)\n",
      "Requirement already satisfied: jupyter-client>=6.1.12 in c:\\users\\sarth\\anaconda3\\lib\\site-packages (from ipykernel>=4.5.1->ipywidgets>=7.0.0->powerbiclient) (7.4.9)\n",
      "Requirement already satisfied: jupyter-core!=5.0.*,>=4.12 in c:\\users\\sarth\\anaconda3\\lib\\site-packages (from ipykernel>=4.5.1->ipywidgets>=7.0.0->powerbiclient) (5.3.0)\n",
      "Requirement already satisfied: matplotlib-inline>=0.1 in c:\\users\\sarth\\anaconda3\\lib\\site-packages (from ipykernel>=4.5.1->ipywidgets>=7.0.0->powerbiclient) (0.1.6)\n",
      "Requirement already satisfied: nest-asyncio in c:\\users\\sarth\\anaconda3\\lib\\site-packages (from ipykernel>=4.5.1->ipywidgets>=7.0.0->powerbiclient) (1.5.6)\n",
      "Requirement already satisfied: packaging in c:\\users\\sarth\\anaconda3\\lib\\site-packages (from ipykernel>=4.5.1->ipywidgets>=7.0.0->powerbiclient) (23.1)\n",
      "Requirement already satisfied: psutil in c:\\users\\sarth\\anaconda3\\lib\\site-packages (from ipykernel>=4.5.1->ipywidgets>=7.0.0->powerbiclient) (5.9.0)\n",
      "Requirement already satisfied: pyzmq>=20 in c:\\users\\sarth\\anaconda3\\lib\\site-packages (from ipykernel>=4.5.1->ipywidgets>=7.0.0->powerbiclient) (23.2.0)\n",
      "Requirement already satisfied: tornado>=6.1 in c:\\users\\sarth\\anaconda3\\lib\\site-packages (from ipykernel>=4.5.1->ipywidgets>=7.0.0->powerbiclient) (6.3.2)\n",
      "Requirement already satisfied: backcall in c:\\users\\sarth\\anaconda3\\lib\\site-packages (from ipython>=6.1.0->ipywidgets>=7.0.0->powerbiclient) (0.2.0)\n",
      "Requirement already satisfied: decorator in c:\\users\\sarth\\anaconda3\\lib\\site-packages (from ipython>=6.1.0->ipywidgets>=7.0.0->powerbiclient) (5.1.1)\n",
      "Requirement already satisfied: jedi>=0.16 in c:\\users\\sarth\\anaconda3\\lib\\site-packages (from ipython>=6.1.0->ipywidgets>=7.0.0->powerbiclient) (0.18.1)\n",
      "Requirement already satisfied: pickleshare in c:\\users\\sarth\\anaconda3\\lib\\site-packages (from ipython>=6.1.0->ipywidgets>=7.0.0->powerbiclient) (0.7.5)\n",
      "Requirement already satisfied: prompt-toolkit!=3.0.37,<3.1.0,>=3.0.30 in c:\\users\\sarth\\anaconda3\\lib\\site-packages (from ipython>=6.1.0->ipywidgets>=7.0.0->powerbiclient) (3.0.36)\n",
      "Requirement already satisfied: pygments>=2.4.0 in c:\\users\\sarth\\anaconda3\\lib\\site-packages (from ipython>=6.1.0->ipywidgets>=7.0.0->powerbiclient) (2.15.1)\n",
      "Requirement already satisfied: stack-data in c:\\users\\sarth\\anaconda3\\lib\\site-packages (from ipython>=6.1.0->ipywidgets>=7.0.0->powerbiclient) (0.2.0)\n",
      "Requirement already satisfied: colorama in c:\\users\\sarth\\anaconda3\\lib\\site-packages (from ipython>=6.1.0->ipywidgets>=7.0.0->powerbiclient) (0.4.6)\n",
      "Requirement already satisfied: six>=1.5 in c:\\users\\sarth\\anaconda3\\lib\\site-packages (from python-dateutil>=2.8.2->pandas->powerbiclient) (1.16.0)\n",
      "Requirement already satisfied: pycparser in c:\\users\\sarth\\anaconda3\\lib\\site-packages (from cffi>=1.12->cryptography<44,>=0.6->msal>=1.8.0->powerbiclient) (2.21)\n",
      "Requirement already satisfied: parso<0.9.0,>=0.8.0 in c:\\users\\sarth\\anaconda3\\lib\\site-packages (from jedi>=0.16->ipython>=6.1.0->ipywidgets>=7.0.0->powerbiclient) (0.8.3)\n",
      "Requirement already satisfied: entrypoints in c:\\users\\sarth\\anaconda3\\lib\\site-packages (from jupyter-client>=6.1.12->ipykernel>=4.5.1->ipywidgets>=7.0.0->powerbiclient) (0.4)\n",
      "Requirement already satisfied: platformdirs>=2.5 in c:\\users\\sarth\\anaconda3\\lib\\site-packages (from jupyter-core!=5.0.*,>=4.12->ipykernel>=4.5.1->ipywidgets>=7.0.0->powerbiclient) (3.10.0)\n",
      "Requirement already satisfied: pywin32>=300 in c:\\users\\sarth\\anaconda3\\lib\\site-packages (from jupyter-core!=5.0.*,>=4.12->ipykernel>=4.5.1->ipywidgets>=7.0.0->powerbiclient) (305.1)\n",
      "Requirement already satisfied: wcwidth in c:\\users\\sarth\\anaconda3\\lib\\site-packages (from prompt-toolkit!=3.0.37,<3.1.0,>=3.0.30->ipython>=6.1.0->ipywidgets>=7.0.0->powerbiclient) (0.2.5)\n",
      "Requirement already satisfied: executing in c:\\users\\sarth\\anaconda3\\lib\\site-packages (from stack-data->ipython>=6.1.0->ipywidgets>=7.0.0->powerbiclient) (0.8.3)\n",
      "Requirement already satisfied: asttokens in c:\\users\\sarth\\anaconda3\\lib\\site-packages (from stack-data->ipython>=6.1.0->ipywidgets>=7.0.0->powerbiclient) (2.0.5)\n",
      "Requirement already satisfied: pure-eval in c:\\users\\sarth\\anaconda3\\lib\\site-packages (from stack-data->ipython>=6.1.0->ipywidgets>=7.0.0->powerbiclient) (0.2.2)\n"
     ]
    }
   ],
   "source": [
    "#installing powerbi python library\n",
    "\n",
    "!pip install powerbiclient"
   ]
  },
  {
   "cell_type": "code",
   "execution_count": 9,
   "id": "cdbf062b",
   "metadata": {},
   "outputs": [
    {
     "name": "stdout",
     "output_type": "stream",
     "text": [
      "Requirement already satisfied: ipywidgets in c:\\users\\sarth\\anaconda3\\lib\\site-packages (8.0.4)\n",
      "Requirement already satisfied: ipykernel>=4.5.1 in c:\\users\\sarth\\anaconda3\\lib\\site-packages (from ipywidgets) (6.25.0)\n",
      "Requirement already satisfied: ipython>=6.1.0 in c:\\users\\sarth\\anaconda3\\lib\\site-packages (from ipywidgets) (8.15.0)\n",
      "Requirement already satisfied: traitlets>=4.3.1 in c:\\users\\sarth\\anaconda3\\lib\\site-packages (from ipywidgets) (5.7.1)\n",
      "Requirement already satisfied: widgetsnbextension~=4.0 in c:\\users\\sarth\\anaconda3\\lib\\site-packages (from ipywidgets) (4.0.5)\n",
      "Requirement already satisfied: jupyterlab-widgets~=3.0 in c:\\users\\sarth\\anaconda3\\lib\\site-packages (from ipywidgets) (3.0.5)\n",
      "Requirement already satisfied: comm>=0.1.1 in c:\\users\\sarth\\anaconda3\\lib\\site-packages (from ipykernel>=4.5.1->ipywidgets) (0.1.2)\n",
      "Requirement already satisfied: debugpy>=1.6.5 in c:\\users\\sarth\\anaconda3\\lib\\site-packages (from ipykernel>=4.5.1->ipywidgets) (1.6.7)\n",
      "Requirement already satisfied: jupyter-client>=6.1.12 in c:\\users\\sarth\\anaconda3\\lib\\site-packages (from ipykernel>=4.5.1->ipywidgets) (7.4.9)\n",
      "Requirement already satisfied: jupyter-core!=5.0.*,>=4.12 in c:\\users\\sarth\\anaconda3\\lib\\site-packages (from ipykernel>=4.5.1->ipywidgets) (5.3.0)\n",
      "Requirement already satisfied: matplotlib-inline>=0.1 in c:\\users\\sarth\\anaconda3\\lib\\site-packages (from ipykernel>=4.5.1->ipywidgets) (0.1.6)\n",
      "Requirement already satisfied: nest-asyncio in c:\\users\\sarth\\anaconda3\\lib\\site-packages (from ipykernel>=4.5.1->ipywidgets) (1.5.6)\n",
      "Requirement already satisfied: packaging in c:\\users\\sarth\\anaconda3\\lib\\site-packages (from ipykernel>=4.5.1->ipywidgets) (23.1)\n",
      "Requirement already satisfied: psutil in c:\\users\\sarth\\anaconda3\\lib\\site-packages (from ipykernel>=4.5.1->ipywidgets) (5.9.0)\n",
      "Requirement already satisfied: pyzmq>=20 in c:\\users\\sarth\\anaconda3\\lib\\site-packages (from ipykernel>=4.5.1->ipywidgets) (23.2.0)\n",
      "Requirement already satisfied: tornado>=6.1 in c:\\users\\sarth\\anaconda3\\lib\\site-packages (from ipykernel>=4.5.1->ipywidgets) (6.3.2)\n",
      "Requirement already satisfied: backcall in c:\\users\\sarth\\anaconda3\\lib\\site-packages (from ipython>=6.1.0->ipywidgets) (0.2.0)\n",
      "Requirement already satisfied: decorator in c:\\users\\sarth\\anaconda3\\lib\\site-packages (from ipython>=6.1.0->ipywidgets) (5.1.1)\n",
      "Requirement already satisfied: jedi>=0.16 in c:\\users\\sarth\\anaconda3\\lib\\site-packages (from ipython>=6.1.0->ipywidgets) (0.18.1)\n",
      "Requirement already satisfied: pickleshare in c:\\users\\sarth\\anaconda3\\lib\\site-packages (from ipython>=6.1.0->ipywidgets) (0.7.5)\n",
      "Requirement already satisfied: prompt-toolkit!=3.0.37,<3.1.0,>=3.0.30 in c:\\users\\sarth\\anaconda3\\lib\\site-packages (from ipython>=6.1.0->ipywidgets) (3.0.36)\n",
      "Requirement already satisfied: pygments>=2.4.0 in c:\\users\\sarth\\anaconda3\\lib\\site-packages (from ipython>=6.1.0->ipywidgets) (2.15.1)\n",
      "Requirement already satisfied: stack-data in c:\\users\\sarth\\anaconda3\\lib\\site-packages (from ipython>=6.1.0->ipywidgets) (0.2.0)\n",
      "Requirement already satisfied: colorama in c:\\users\\sarth\\anaconda3\\lib\\site-packages (from ipython>=6.1.0->ipywidgets) (0.4.6)\n",
      "Requirement already satisfied: parso<0.9.0,>=0.8.0 in c:\\users\\sarth\\anaconda3\\lib\\site-packages (from jedi>=0.16->ipython>=6.1.0->ipywidgets) (0.8.3)\n",
      "Requirement already satisfied: entrypoints in c:\\users\\sarth\\anaconda3\\lib\\site-packages (from jupyter-client>=6.1.12->ipykernel>=4.5.1->ipywidgets) (0.4)\n",
      "Requirement already satisfied: python-dateutil>=2.8.2 in c:\\users\\sarth\\anaconda3\\lib\\site-packages (from jupyter-client>=6.1.12->ipykernel>=4.5.1->ipywidgets) (2.8.2)\n",
      "Requirement already satisfied: platformdirs>=2.5 in c:\\users\\sarth\\anaconda3\\lib\\site-packages (from jupyter-core!=5.0.*,>=4.12->ipykernel>=4.5.1->ipywidgets) (3.10.0)\n",
      "Requirement already satisfied: pywin32>=300 in c:\\users\\sarth\\anaconda3\\lib\\site-packages (from jupyter-core!=5.0.*,>=4.12->ipykernel>=4.5.1->ipywidgets) (305.1)\n",
      "Requirement already satisfied: wcwidth in c:\\users\\sarth\\anaconda3\\lib\\site-packages (from prompt-toolkit!=3.0.37,<3.1.0,>=3.0.30->ipython>=6.1.0->ipywidgets) (0.2.5)\n",
      "Requirement already satisfied: executing in c:\\users\\sarth\\anaconda3\\lib\\site-packages (from stack-data->ipython>=6.1.0->ipywidgets) (0.8.3)\n",
      "Requirement already satisfied: asttokens in c:\\users\\sarth\\anaconda3\\lib\\site-packages (from stack-data->ipython>=6.1.0->ipywidgets) (2.0.5)\n",
      "Requirement already satisfied: pure-eval in c:\\users\\sarth\\anaconda3\\lib\\site-packages (from stack-data->ipython>=6.1.0->ipywidgets) (0.2.2)\n",
      "Requirement already satisfied: six>=1.5 in c:\\users\\sarth\\anaconda3\\lib\\site-packages (from python-dateutil>=2.8.2->jupyter-client>=6.1.12->ipykernel>=4.5.1->ipywidgets) (1.16.0)\n"
     ]
    }
   ],
   "source": [
    "#installing ipywidgets library\n",
    "!pip install ipywidgets"
   ]
  },
  {
   "cell_type": "code",
   "execution_count": 3,
   "id": "abdd729f",
   "metadata": {},
   "outputs": [],
   "source": [
    "#reading dataset with pandas\n",
    "\n",
    "import pandas as pd\n",
    "\n",
    "file_path = r\"C:\\Users\\sarth\\Downloads\\archive (4)\\population_by_country_2020.csv\"\n",
    "df = pd.read_csv(file_path)"
   ]
  },
  {
   "cell_type": "code",
   "execution_count": 4,
   "id": "17607358",
   "metadata": {},
   "outputs": [
    {
     "data": {
      "text/html": [
       "<div>\n",
       "<style scoped>\n",
       "    .dataframe tbody tr th:only-of-type {\n",
       "        vertical-align: middle;\n",
       "    }\n",
       "\n",
       "    .dataframe tbody tr th {\n",
       "        vertical-align: top;\n",
       "    }\n",
       "\n",
       "    .dataframe thead th {\n",
       "        text-align: right;\n",
       "    }\n",
       "</style>\n",
       "<table border=\"1\" class=\"dataframe\">\n",
       "  <thead>\n",
       "    <tr style=\"text-align: right;\">\n",
       "      <th></th>\n",
       "      <th>Country (or dependency)</th>\n",
       "      <th>Population (2020)</th>\n",
       "      <th>Yearly Change</th>\n",
       "      <th>Net Change</th>\n",
       "      <th>Density (P/Km²)</th>\n",
       "      <th>Land Area (Km²)</th>\n",
       "      <th>Migrants (net)</th>\n",
       "      <th>Fert. Rate</th>\n",
       "      <th>Med. Age</th>\n",
       "      <th>Urban Pop %</th>\n",
       "      <th>World Share</th>\n",
       "    </tr>\n",
       "  </thead>\n",
       "  <tbody>\n",
       "    <tr>\n",
       "      <th>0</th>\n",
       "      <td>China</td>\n",
       "      <td>1440297825</td>\n",
       "      <td>0.39 %</td>\n",
       "      <td>5540090</td>\n",
       "      <td>153</td>\n",
       "      <td>9388211</td>\n",
       "      <td>-348399.0</td>\n",
       "      <td>1.7</td>\n",
       "      <td>38</td>\n",
       "      <td>61 %</td>\n",
       "      <td>18.47 %</td>\n",
       "    </tr>\n",
       "    <tr>\n",
       "      <th>1</th>\n",
       "      <td>India</td>\n",
       "      <td>1382345085</td>\n",
       "      <td>0.99 %</td>\n",
       "      <td>13586631</td>\n",
       "      <td>464</td>\n",
       "      <td>2973190</td>\n",
       "      <td>-532687.0</td>\n",
       "      <td>2.2</td>\n",
       "      <td>28</td>\n",
       "      <td>35 %</td>\n",
       "      <td>17.70 %</td>\n",
       "    </tr>\n",
       "    <tr>\n",
       "      <th>2</th>\n",
       "      <td>United States</td>\n",
       "      <td>331341050</td>\n",
       "      <td>0.59 %</td>\n",
       "      <td>1937734</td>\n",
       "      <td>36</td>\n",
       "      <td>9147420</td>\n",
       "      <td>954806.0</td>\n",
       "      <td>1.8</td>\n",
       "      <td>38</td>\n",
       "      <td>83 %</td>\n",
       "      <td>4.25 %</td>\n",
       "    </tr>\n",
       "    <tr>\n",
       "      <th>3</th>\n",
       "      <td>Indonesia</td>\n",
       "      <td>274021604</td>\n",
       "      <td>1.07 %</td>\n",
       "      <td>2898047</td>\n",
       "      <td>151</td>\n",
       "      <td>1811570</td>\n",
       "      <td>-98955.0</td>\n",
       "      <td>2.3</td>\n",
       "      <td>30</td>\n",
       "      <td>56 %</td>\n",
       "      <td>3.51 %</td>\n",
       "    </tr>\n",
       "    <tr>\n",
       "      <th>4</th>\n",
       "      <td>Pakistan</td>\n",
       "      <td>221612785</td>\n",
       "      <td>2.00 %</td>\n",
       "      <td>4327022</td>\n",
       "      <td>287</td>\n",
       "      <td>770880</td>\n",
       "      <td>-233379.0</td>\n",
       "      <td>3.6</td>\n",
       "      <td>23</td>\n",
       "      <td>35 %</td>\n",
       "      <td>2.83 %</td>\n",
       "    </tr>\n",
       "  </tbody>\n",
       "</table>\n",
       "</div>"
      ],
      "text/plain": [
       "  Country (or dependency)  Population (2020) Yearly Change  Net Change  \\\n",
       "0                   China         1440297825        0.39 %     5540090   \n",
       "1                   India         1382345085        0.99 %    13586631   \n",
       "2           United States          331341050        0.59 %     1937734   \n",
       "3               Indonesia          274021604        1.07 %     2898047   \n",
       "4                Pakistan          221612785        2.00 %     4327022   \n",
       "\n",
       "   Density (P/Km²)  Land Area (Km²)  Migrants (net) Fert. Rate Med. Age  \\\n",
       "0              153          9388211       -348399.0        1.7       38   \n",
       "1              464          2973190       -532687.0        2.2       28   \n",
       "2               36          9147420        954806.0        1.8       38   \n",
       "3              151          1811570        -98955.0        2.3       30   \n",
       "4              287           770880       -233379.0        3.6       23   \n",
       "\n",
       "  Urban Pop % World Share  \n",
       "0        61 %     18.47 %  \n",
       "1        35 %     17.70 %  \n",
       "2        83 %      4.25 %  \n",
       "3        56 %      3.51 %  \n",
       "4        35 %      2.83 %  "
      ]
     },
     "execution_count": 4,
     "metadata": {},
     "output_type": "execute_result"
    }
   ],
   "source": [
    "df.head()"
   ]
  },
  {
   "cell_type": "code",
   "execution_count": 5,
   "id": "c356ddc5",
   "metadata": {},
   "outputs": [],
   "source": [
    "#import powerbi dependencies\n",
    "\n",
    "from powerbiclient import QuickVisualize, get_dataset_config, Report\n",
    "from powerbiclient.authentication import DeviceCodeLoginAuthentication\n",
    "from powerbiclient.authentication import InteractiveLoginAuthentication"
   ]
  },
  {
   "cell_type": "code",
   "execution_count": null,
   "id": "de04131b",
   "metadata": {},
   "outputs": [],
   "source": [
    "#We have to authenticate client device to run powerbi client\n",
    "#A URL and a code will be generated\n",
    "#This step is required to sign in for Power BI Client Integrations with a microsoft account\n",
    "\n",
    "device_auth = DeviceCodeLoginAuthentication()"
   ]
  },
  {
   "cell_type": "code",
   "execution_count": 6,
   "id": "a4ba5928",
   "metadata": {},
   "outputs": [
    {
     "name": "stdout",
     "output_type": "stream",
     "text": [
      "A local browser window will open for interactive sign in.\n",
      "\n",
      "Interactive authentication successfully completed.\n",
      "You are now logged in.\n",
      "\n",
      "The result should be passed only to trusted code in your notebook.\n"
     ]
    }
   ],
   "source": [
    "#This is another way to authenticate your device where you can skip the copy code part\n",
    "#Any one of authentication would work\n",
    "authentication = InteractiveLoginAuthentication()"
   ]
  },
  {
   "cell_type": "code",
   "execution_count": 7,
   "id": "f685b7e0",
   "metadata": {},
   "outputs": [],
   "source": [
    "#We will create a quick report with our data\n",
    "\n",
    "pbi_visualize = QuickVisualize(get_dataset_config(df), auth = authentication)"
   ]
  },
  {
   "cell_type": "code",
   "execution_count": 8,
   "id": "70957305",
   "metadata": {},
   "outputs": [
    {
     "data": {
      "application/vnd.jupyter.widget-view+json": {
       "model_id": "740fdb52b26749cdaceb1faaa851437b",
       "version_major": 2,
       "version_minor": 0
      },
      "text/plain": [
       "QuickVisualize()"
      ]
     },
     "execution_count": 8,
     "metadata": {},
     "output_type": "execute_result"
    }
   ],
   "source": [
    "pbi_visualize"
   ]
  }
 ],
 "metadata": {
  "kernelspec": {
   "display_name": "Python 3 (ipykernel)",
   "language": "python",
   "name": "python3"
  },
  "language_info": {
   "codemirror_mode": {
    "name": "ipython",
    "version": 3
   },
   "file_extension": ".py",
   "mimetype": "text/x-python",
   "name": "python",
   "nbconvert_exporter": "python",
   "pygments_lexer": "ipython3",
   "version": "3.11.5"
  }
 },
 "nbformat": 4,
 "nbformat_minor": 5
}
